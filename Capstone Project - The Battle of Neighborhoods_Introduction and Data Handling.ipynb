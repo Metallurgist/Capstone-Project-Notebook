{
 "cells": [
  {
   "cell_type": "markdown",
   "metadata": {},
   "source": [
    "# Peer-graded Assignment : Capstone Project - The Battle of Neighborhoods_Full\n",
    "[ IBM Data Science Professional Certificate](https://www.coursera.org/professional-certificates/ibm-data-science)<br>\n",
    "Applied Data Science Capstone - Week 4 & 5 <br><br>\n",
    "Coded and Maintained by <b>Mohammed Burhanuddeen R</b><br>\n",
    "Github account [@Metallurgist](https://github.com/Metallurgist/Doom-Slayer)"
   ]
  },
  {
   "cell_type": "markdown",
   "metadata": {},
   "source": [
    "<hr>\n",
    "<hr>\n",
    "\n",
    "## Instructions for the Capstone Project Assignment :\n",
    "Now that you have been equipped with the skills and the tools to use location data to explore a geographical location, over the course of two weeks, you will have the opportunity to be as creative as you want and come up with an idea to leverage the Foursquare location data to explore or compare neighborhoods or cities of your choice or to come up with a problem that you can use the Foursquare location data to solve. If you cannot think of an idea or a problem, here are some ideas to get you started:\n",
    "\n",
    "In Module 3, we explored New York City and the city of Toronto and segmented and clustered their neighborhoods. Both cities are very diverse and are the financial capitals of their respective countries. One interesting idea would be to compare the neighborhoods of the two cities and determine how similar or dissimilar they are. Is New York City more like Toronto or Paris or some other multicultural city? I will leave it to you to refine this idea.\n",
    "In a city of your choice, if someone is looking to open a restaurant, where would you recommend that they open it? Similarly, if a contractor is trying to start their own business, where would you recommend that they setup their office?\n",
    "These are just a couple of many ideas and problems that can be solved using location data in addition to other datasets. No matter what you decide to do, make sure to provide sufficient justification of why you think what you want to do or solve is important and why would a client or a group of people be interested in your project.\n",
    "\n",
    "<b>Review criteria :</b><br>\n",
    "This capstone project will be graded by your peers. This capstone project is worth 70% of your total grade. The project will be completed over the course of 2 weeks. Week 1 submissions will be worth 30% whereas Week 2 submissions will be worth 40% of your total grade.\n",
    "\n",
    "<b>For Week 1, you will required to submit the following :</b>\n",
    "\n",
    "   1. A description of the problem and a discussion of the background. (15 marks)\n",
    "   2. A description of the data and how it will be used to solve the problem. (15 marks)<br>\n",
    "   \n",
    "<b>For the Week 2, the final deliverables of the project will be :</b>\n",
    "\n",
    "   1. A link to your Notebook on your Github repository, showing your code. (15 marks)\n",
    "   2. A full report consisting of all of the following components (15 marks):\n",
    "         * Introduction where you discuss the business problem and who would be interested in this project.\n",
    "         * Data where you describe the data that will be used to solve the problem and the source of the data.\n",
    "         * Methodology section which represents the main component of the report where you discuss and describe any exploratory data analysis that you did, any inferential statistical testing that you performed, if any, and what machine learnings were used and why.\n",
    "         * Results section where you discuss the results.\n",
    "         * Discussion section where you discuss any observations you noted and any recommendations you can make based on the results.\n",
    "         * Conclusion section where you conclude the report.\n",
    "   3. Your choice of a presentation or blogpost. (10 marks)\n",
    "<hr>\n",
    "<hr>"
   ]
  },
  {
   "cell_type": "markdown",
   "metadata": {},
   "source": [
    "# Solution :\n",
    "## Week 1 :\n",
    "\n",
    "   <b>1. A description of the problem and a discussion of the background.</b><br>\n",
    "   Client with a well establied Coffee Enterprises outlets in Canada, wants to try his luck in US, by opening a new Coffee chain outlet in the New York City,especially in the Manhattan Area.He is confident about his business skills, but is not very sure of where in Manhattan he wants to start this new business.So, my task is to provide him an undertanding about the business competition he will be facing and his fight for the Neighbourhood.<br><br>\n",
    "   <b>2. A description of the data and how it will be used to solve the problem.</b><br>\n",
    "   Using the Four Square location provider, the Cafe outlets around the NYC will be explored and analysed.Usage of Folium maps,Clustering Analysis and KDE Heat Density Distribution plots to visulaize how close the outlets around the NYC neighbour and provide possible location of interest to the client."
   ]
  }
 ],
 "metadata": {
  "kernelspec": {
   "display_name": "Python",
   "language": "python",
   "name": "conda-env-python-py"
  },
  "language_info": {
   "codemirror_mode": {
    "name": "ipython",
    "version": 3
   },
   "file_extension": ".py",
   "mimetype": "text/x-python",
   "name": "python",
   "nbconvert_exporter": "python",
   "pygments_lexer": "ipython3",
   "version": "3.6.10"
  }
 },
 "nbformat": 4,
 "nbformat_minor": 4
}
